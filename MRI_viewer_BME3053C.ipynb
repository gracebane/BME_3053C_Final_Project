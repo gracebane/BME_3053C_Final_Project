{
  "cells": [
    {
      "cell_type": "code",
      "execution_count": 3,
      "metadata": {
        "colab": {
          "base_uri": "https://localhost:8080/"
        },
        "id": "NLYFRlB9kVaJ",
        "outputId": "afea6025-607d-496f-a57f-8792d4aa6c1c"
      },
      "outputs": [
        {
          "ename": "ModuleNotFoundError",
          "evalue": "No module named 'nibabel'",
          "output_type": "error",
          "traceback": [
            "\u001b[31m---------------------------------------------------------------------------\u001b[39m",
            "\u001b[31mModuleNotFoundError\u001b[39m                       Traceback (most recent call last)",
            "\u001b[36mCell\u001b[39m\u001b[36m \u001b[39m\u001b[32mIn[3]\u001b[39m\u001b[32m, line 4\u001b[39m\n\u001b[32m      2\u001b[39m \u001b[38;5;28;01mimport\u001b[39;00m\u001b[38;5;250m \u001b[39m\u001b[34;01mmatplotlib\u001b[39;00m\u001b[34;01m.\u001b[39;00m\u001b[34;01mpyplot\u001b[39;00m\u001b[38;5;250m \u001b[39m\u001b[38;5;28;01mas\u001b[39;00m\u001b[38;5;250m \u001b[39m\u001b[34;01mplt\u001b[39;00m\n\u001b[32m      3\u001b[39m \u001b[38;5;28;01mimport\u001b[39;00m\u001b[38;5;250m \u001b[39m\u001b[34;01mmath\u001b[39;00m\n\u001b[32m----> \u001b[39m\u001b[32m4\u001b[39m \u001b[38;5;28;01mimport\u001b[39;00m\u001b[38;5;250m \u001b[39m\u001b[34;01mnibabel\u001b[39;00m\u001b[38;5;250m \u001b[39m\u001b[38;5;28;01mas\u001b[39;00m\u001b[38;5;250m \u001b[39m\u001b[34;01mnib\u001b[39;00m\n\u001b[32m      5\u001b[39m \u001b[38;5;28;01mimport\u001b[39;00m\u001b[38;5;250m \u001b[39m\u001b[34;01mos\u001b[39;00m\n\u001b[32m      7\u001b[39m get_ipython().system(\u001b[33m'\u001b[39m\u001b[33mpip install --upgrade numpy\u001b[39m\u001b[33m'\u001b[39m)\n",
            "\u001b[31mModuleNotFoundError\u001b[39m: No module named 'nibabel'"
          ]
        }
      ],
      "source": [
        "import numpy as np\n",
        "import matplotlib.pyplot as plt\n",
        "import math\n",
        "import nibabel as nib\n",
        "import os\n",
        "\n",
        "!pip install --upgrade numpy\n",
        "!pip install --upgrade pandas\n",
        "%pip install monai\n",
        "%pip install nibabel\n",
        "\n",
        "\n",
        "\n",
        "file_path = \"/content/subject04_crisp_v.mnc\"  # Replace with the actual path\n",
        "\n",
        "# Check if the file exists\n",
        "if os.path.exists(file_path):\n",
        "    print(f\"File exists: {file_path}\")\n",
        "else:\n",
        "    print(f\"File not found: {file_path}\")\n",
        "    # If the file doesn't exist, double-check the path\n",
        "\n",
        "# Attempt to load the file header only\n",
        "try:\n",
        "    img = nib.load(file_path, read_data=False)  # Avoid loading data initially\n",
        "    header = img.header\n",
        "    print(\"File header loaded successfully.\")\n",
        "    print(f\"Image shape: {header.get_data_shape()}\")  # Check image shape\n",
        "except Exception as e:\n",
        "    print(f\"Error loading file header: {e}\")\n",
        "\n",
        "img = nib.load(file_path)\n",
        "data = img.get_fdata()\n"
      ]
    },
    {
      "cell_type": "code",
      "execution_count": 3,
      "metadata": {
        "colab": {
          "base_uri": "https://localhost:8080/",
          "height": 1000
        },
        "id": "zvQD0gwXlSqX",
        "outputId": "667442a8-2215-484f-bd54-c9275bfcd44c"
      },
      "outputs": [
        {
          "ename": "NameError",
          "evalue": "name 'data' is not defined",
          "output_type": "error",
          "traceback": [
            "\u001b[31m---------------------------------------------------------------------------\u001b[39m",
            "\u001b[31mNameError\u001b[39m                                 Traceback (most recent call last)",
            "\u001b[36mCell\u001b[39m\u001b[36m \u001b[39m\u001b[32mIn[3]\u001b[39m\u001b[32m, line 5\u001b[39m\n\u001b[32m      2\u001b[39m z_slice = \u001b[32m50\u001b[39m  \u001b[38;5;66;03m# Example: slice at z = 50\u001b[39;00m\n\u001b[32m      4\u001b[39m \u001b[38;5;66;03m# Check if the chosen z-slice is within the image dimensions\u001b[39;00m\n\u001b[32m----> \u001b[39m\u001b[32m5\u001b[39m \u001b[38;5;28;01mif\u001b[39;00m \u001b[32m0\u001b[39m <= z_slice < \u001b[43mdata\u001b[49m.shape[\u001b[32m2\u001b[39m]:\n\u001b[32m      6\u001b[39m     \u001b[38;5;66;03m# Extract the slice\u001b[39;00m\n\u001b[32m      7\u001b[39m     slice_data = data[:, :, z_slice]\n\u001b[32m      9\u001b[39m     \u001b[38;5;66;03m# Display the slice\u001b[39;00m\n",
            "\u001b[31mNameError\u001b[39m: name 'data' is not defined"
          ]
        }
      ],
      "source": [
        "\n",
        "# Choose a slice to display (adjust z_slice as needed)\n",
        "z_slice = 50  # Example: slice at z = 50\n",
        "\n",
        "# Check if the chosen z-slice is within the image dimensions\n",
        "if 0 <= z_slice < data.shape[2]:\n",
        "    # Extract the slice\n",
        "    slice_data = data[:, :, z_slice]\n",
        "\n",
        "    # Display the slice\n",
        "    plt.imshow(slice_data.T, cmap='gray')  # Use transpose (.T) for correct orientation\n",
        "    plt.title(f\"MRI Slice at z = {z_slice}\")\n",
        "    plt.show()\n",
        "\n",
        "    # Display additional slices (example: sagittal and coronal)\n",
        "\n",
        "    x_slice = 50 # Example: slice at x = 50\n",
        "    if 0 <= x_slice < data.shape[0]:\n",
        "        plt.imshow(np.rot90(data[x_slice, :, :]), cmap='gray') # Rotate sagittal slice\n",
        "        plt.title(f\"Sagittal Slice at x = {x_slice}\")\n",
        "        plt.show()\n",
        "\n",
        "    y_slice = 50 # Example: slice at y = 50\n",
        "    if 0 <= y_slice < data.shape[1]:\n",
        "        plt.imshow(np.rot90(data[:, y_slice, :]), cmap='gray') # Rotate coronal slice\n",
        "        plt.title(f\"Coronal Slice at y = {y_slice}\")\n",
        "        plt.show()\n",
        "\n",
        "else:\n",
        "    print(\"Invalid z-slice index.\")\n"
      ]
    }
  ],
  "metadata": {
    "colab": {
      "provenance": []
    },
    "kernelspec": {
      "display_name": "Python 3",
      "name": "python3"
    },
    "language_info": {
      "codemirror_mode": {
        "name": "ipython",
        "version": 3
      },
      "file_extension": ".py",
      "mimetype": "text/x-python",
      "name": "python",
      "nbconvert_exporter": "python",
      "pygments_lexer": "ipython3",
      "version": "3.12.1"
    }
  },
  "nbformat": 4,
  "nbformat_minor": 0
}
